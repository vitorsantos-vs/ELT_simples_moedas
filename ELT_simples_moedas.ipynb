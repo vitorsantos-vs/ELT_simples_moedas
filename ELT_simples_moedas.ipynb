{
 "cells": [
  {
   "cell_type": "markdown",
   "metadata": {
    "application/vnd.databricks.v1+cell": {
     "cellMetadata": {},
     "inputWidgets": {},
     "nuid": "33ff3bd6-84b0-43fd-9e5a-f499bfc19d26",
     "showTitle": false,
     "tableResultSettingsMap": {},
     "title": ""
    }
   },
   "source": [
    "# PySpark"
   ]
  },
  {
   "cell_type": "code",
   "execution_count": 0,
   "metadata": {
    "application/vnd.databricks.v1+cell": {
     "cellMetadata": {
      "byteLimit": 2048000,
      "rowLimit": 10000
     },
     "inputWidgets": {},
     "nuid": "4f03cd3b-06fe-4e87-bc29-e6f598a7c240",
     "showTitle": false,
     "tableResultSettingsMap": {},
     "title": ""
    }
   },
   "outputs": [
    {
     "output_type": "stream",
     "name": "stdout",
     "output_type": "stream",
     "text": [
      "+--------------------+-------+----------+\n|               Moeda|Cotação|      Data|\n+--------------------+-------+----------+\n|Dólar Americano (...|   5.71|2025-05-25|\n|          Euro (EUR)|   6.47|2025-05-25|\n|Libra esterlina (...|   7.71|2025-05-25|\n|          Iene (JPY)|   0.04|2025-05-25|\n|Dólar Australiano...|   3.68|2025-05-25|\n|Dólar Canadense (...|   4.14|2025-05-25|\n+--------------------+-------+----------+\n\nDados inseridos ou atualizados com sucesso!\n"
     ]
    }
   ],
   "source": [
    "from pyspark.sql import SparkSession\n",
    "from pyspark.sql.types import StructType, StructField, StringType, FloatType\n",
    "from datetime import datetime\n",
    "import requests\n",
    "import psycopg2\n",
    "import os\n",
    "\n",
    "# Inicializando a SparkSession\n",
    "spark = SparkSession.builder \\\n",
    "    .appName(\"ExchangeRate\") \\\n",
    "    .config(\"spark.driver.extraClassPath\", \"/path/to/postgresql-connector.jar\") \\\n",
    "    .getOrCreate()\n",
    "\n",
    "# URL da API de câmbio\n",
    "API_URL = \"https://api.exchangerate-api.com/v4/latest/USD\"\n",
    "\n",
    "# Fazendo a requisição à API\n",
    "response = requests.get(API_URL)\n",
    "data = response.json()\n",
    "\n",
    "# Cotação do dólar em relação ao real\n",
    "usd_to_brl = data[\"rates\"][\"BRL\"]\n",
    "\n",
    "# Lista das moedas principais\n",
    "moedas_principais = {\n",
    "    \"Dólar Americano (USD)\": \"USD\",\n",
    "    \"Euro (EUR)\": \"EUR\",\n",
    "    \"Libra esterlina (GBP)\": \"GBP\",\n",
    "    \"Iene (JPY)\": \"JPY\",\n",
    "    \"Dólar Australiano (AUD)\": \"AUD\",\n",
    "    \"Dólar Canadense (CAD)\": \"CAD\"\n",
    "}\n",
    "\n",
    "# Capturando a data atual\n",
    "data_atual = datetime.now().strftime(\"%Y-%m-%d\")\n",
    "\n",
    "# Criando lista de dados\n",
    "dados = [\n",
    "    (moeda, round(usd_to_brl / data[\"rates\"].get(codigo, 1), 2), data_atual) \n",
    "    for moeda, codigo in moedas_principais.items()\n",
    "]\n",
    "\n",
    "# Criando um esquema para o DataFrame\n",
    "schema = StructType([\n",
    "    StructField(\"Moeda\", StringType(), True),\n",
    "    StructField(\"Cotação\", FloatType(), True),\n",
    "    StructField(\"Data\", StringType(), True)\n",
    "])\n",
    "\n",
    "# Criando DataFrame usando PySpark\n",
    "df = spark.createDataFrame(dados, schema=schema)\n",
    "df.show()\n",
    "\n",
    "# Configuração do banco PostgreSQL na AWS\n",
    "host = \"postgresql-databricks-vs.c8xy4kcoa4rk.us-east-1.rds.amazonaws.com\"\n",
    "user = \"postgres\"\n",
    "database = \"postgres\"\n",
    "password = \"Vitor#2301\"\n",
    "\n",
    "# Criando conexão com o PostgreSQL\n",
    "conn = psycopg2.connect(host=host, user=user, database=database, password=password)\n",
    "cursor = conn.cursor()\n",
    "\n",
    "# Criando tabela se não existir\n",
    "cursor.execute(\"\"\"\n",
    "    CREATE TABLE IF NOT EXISTS cotacoes_moedas (\n",
    "        id SERIAL PRIMARY KEY,\n",
    "        moeda VARCHAR(50),\n",
    "        cotacao NUMERIC,\n",
    "        data DATE,\n",
    "        UNIQUE (moeda, data)\n",
    "    );\n",
    "\"\"\")\n",
    "conn.commit()\n",
    "\n",
    "# Verificando se cada moeda já existe na data atual e inserindo/atualizando os dados\n",
    "for moeda, cotacao, data in dados:\n",
    "    cursor.execute(\"SELECT COUNT(*) FROM cotacoes_moedas WHERE moeda = %s AND data = %s;\", (moeda, data))\n",
    "    existe_data = cursor.fetchone()[0]\n",
    "\n",
    "    if existe_data == 0:\n",
    "        cursor.execute(\"\"\"\n",
    "            INSERT INTO cotacoes_moedas (moeda, cotacao, data)\n",
    "            VALUES (%s, %s, %s);\n",
    "        \"\"\", (moeda, cotacao, data))\n",
    "    else:\n",
    "        cursor.execute(\"\"\"\n",
    "            UPDATE cotacoes_moedas SET cotacao = %s WHERE moeda = %s AND data = %s;\n",
    "        \"\"\", (cotacao, moeda, data))\n",
    "\n",
    "conn.commit()\n",
    "print(\"Dados inseridos ou atualizados com sucesso!\")\n",
    "\n",
    "# Fechando conexão\n",
    "cursor.close()\n",
    "conn.close()"
   ]
  }
 ],
 "metadata": {
  "application/vnd.databricks.v1+notebook": {
   "computePreferences": null,
   "dashboards": [],
   "environmentMetadata": {
    "base_environment": "",
    "environment_version": "1"
   },
   "inputWidgetPreferences": null,
   "language": "python",
   "notebookMetadata": {
    "mostRecentlyExecutedCommandWithImplicitDF": {
     "commandId": 2625916008831253,
     "dataframes": [
      "_sqldf"
     ]
    },
    "pythonIndentUnit": 4
   },
   "notebookName": "ELT_simples_moedas",
   "widgets": {}
  }
 },
 "nbformat": 4,
 "nbformat_minor": 0
}